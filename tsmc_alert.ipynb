{
 "cells": [
  {
   "cell_type": "code",
   "execution_count": null,
   "id": "reflected-andrew",
   "metadata": {},
   "outputs": [],
   "source": [
    "from time import sleep\n",
    "import stock_module as m\n",
    "\n",
    "symbol = '2330'\n",
    "alert_price = 350\n",
    "name, price = m.get_price(symbol)\n",
    "times = 0\n",
    "\n",
    "#monitor 1 hours\n",
    "check_cnt = 60\n",
    "\n",
    "while True:\n",
    "    if price <= alert_price:\n",
    "        m.send_ifttt(name, price, '即時股價提醒!')\n",
    "        times = times + 1\n",
    "        if times == 30:\n",
    "            m.send_ifttt(name, price, 'less than your price '+ str(alert_price) + ' for more than 30 min')\n",
    "    #Once the price greater than alert price, the counter will recount.\n",
    "    else:\n",
    "        times = 0\n",
    "    \n",
    "    check_cnt -= 1\n",
    "    if check_cnt == 0: break\n",
    "\n",
    "    sleep(60)"
   ]
  },
  {
   "cell_type": "code",
   "execution_count": null,
   "id": "sealed-vault",
   "metadata": {},
   "outputs": [],
   "source": []
  }
 ],
 "metadata": {
  "kernelspec": {
   "display_name": "Python 3",
   "language": "python",
   "name": "python3"
  },
  "language_info": {
   "codemirror_mode": {
    "name": "ipython",
    "version": 3
   },
   "file_extension": ".py",
   "mimetype": "text/x-python",
   "name": "python",
   "nbconvert_exporter": "python",
   "pygments_lexer": "ipython3",
   "version": "3.7.8"
  }
 },
 "nbformat": 4,
 "nbformat_minor": 5
}
